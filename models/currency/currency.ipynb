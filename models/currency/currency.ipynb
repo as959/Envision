{
  "nbformat": 4,
  "nbformat_minor": 0,
  "metadata": {
    "accelerator": "GPU",
    "colab": {
      "name": "currency.ipynb",
      "provenance": [],
      "collapsed_sections": [],
      "machine_shape": "hm"
    },
    "kernelspec": {
      "display_name": "Python 3",
      "language": "python",
      "name": "python3"
    },
    "language_info": {
      "codemirror_mode": {
        "name": "ipython",
        "version": 3
      },
      "file_extension": ".py",
      "mimetype": "text/x-python",
      "name": "python",
      "nbconvert_exporter": "python",
      "pygments_lexer": "ipython3",
      "version": "3.8.5"
    },
    "varInspector": {
      "cols": {
        "lenName": 16,
        "lenType": 16,
        "lenVar": 40
      },
      "kernels_config": {
        "python": {
          "delete_cmd_postfix": "",
          "delete_cmd_prefix": "del ",
          "library": "var_list.py",
          "varRefreshCmd": "print(var_dic_list())"
        },
        "r": {
          "delete_cmd_postfix": ") ",
          "delete_cmd_prefix": "rm(",
          "library": "var_list.r",
          "varRefreshCmd": "cat(var_dic_list()) "
        }
      },
      "types_to_exclude": [
        "module",
        "function",
        "builtin_function_or_method",
        "instance",
        "_Feature"
      ],
      "window_display": false
    }
  },
  "cells": [
    {
      "cell_type": "code",
      "metadata": {
        "id": "jZHGmsYDDVTQ"
      },
      "source": [
        "!pip install tflite-model-maker"
      ],
      "execution_count": null,
      "outputs": []
    },
    {
      "cell_type": "code",
      "metadata": {
        "colab": {
          "base_uri": "https://localhost:8080/"
        },
        "id": "cdF67XIEODkw",
        "outputId": "c671d8be-e9a5-4128-be0d-9d4b26aaf140"
      },
      "source": [
        "!pip install tensorflow==2.4"
      ],
      "execution_count": null,
      "outputs": [
        {
          "output_type": "stream",
          "text": [
            "      Successfully uninstalled tensorflow-2.4.1\n",
            "Successfully installed tensorflow-2.4.0\n"
          ],
          "name": "stdout"
        }
      ]
    },
    {
      "cell_type": "code",
      "metadata": {
        "id": "GIYEu-K0OEak"
      },
      "source": [
        "import numpy as np\n",
        "import tensorflow as tf\n",
        "assert tf.__version__.startswith('2')\n",
        "from tflite_model_maker import configs\n",
        "from tflite_model_maker import ExportFormat\n",
        "from tflite_model_maker import image_classifier\n",
        "from tflite_model_maker import ImageClassifierDataLoader\n",
        "from tflite_model_maker import model_spec\n",
        "import matplotlib.pyplot as plt"
      ],
      "execution_count": null,
      "outputs": []
    },
    {
      "cell_type": "code",
      "metadata": {
        "colab": {
          "base_uri": "https://localhost:8080/"
        },
        "id": "IXnmCTBYw6TX",
        "outputId": "dc48c4dc-4e94-4e24-b836-a32d1854cad5"
      },
      "source": [
        "from google.colab import drive\n",
        "drive.mount('/content/drive')"
      ],
      "execution_count": null,
      "outputs": [
        {
          "output_type": "stream",
          "text": [
            "Mounted at /content/drive\n"
          ],
          "name": "stdout"
        }
      ]
    },
    {
      "cell_type": "code",
      "metadata": {
        "colab": {
          "base_uri": "https://localhost:8080/"
        },
        "id": "_RztZebVxH4F",
        "outputId": "3357e0a1-84c5-44f7-b407-fe3e8a0bfba9"
      },
      "source": [
        "%cd /content/drive/MyDrive/MIP/models/curr"
      ],
      "execution_count": null,
      "outputs": [
        {
          "output_type": "stream",
          "text": [
            "/content/drive/MyDrive/MIP/models/curr\n"
          ],
          "name": "stdout"
        }
      ]
    },
    {
      "cell_type": "markdown",
      "metadata": {
        "id": "NVXYAdN9Oa4v"
      },
      "source": [
        "# Transfer"
      ]
    },
    {
      "cell_type": "code",
      "metadata": {
        "id": "dQetMyCvDXYB"
      },
      "source": [
        "import numpy as np\n",
        "import os\n",
        "import matplotlib.pyplot as plt\n",
        "import shutil\n",
        "import tensorflow as tf\n",
        "from keras.preprocessing.image import ImageDataGenerator\n",
        "from keras.models import Sequential, Model\n",
        "from keras.layers import Dense, Dropout, Activation, Flatten\n",
        "from keras.layers import Conv2D, MaxPooling2D, BatchNormalization, GlobalAveragePooling2D\n",
        "from keras import regularizers\n",
        "from keras.optimizers import Adam,SGD"
      ],
      "execution_count": null,
      "outputs": []
    },
    {
      "cell_type": "code",
      "metadata": {
        "id": "eC_3Z9Qg2LcB",
        "scrolled": true
      },
      "source": [
        "# !tar -xvf 'indian_currency_new.tar'"
      ],
      "execution_count": null,
      "outputs": []
    },
    {
      "cell_type": "code",
      "metadata": {
        "colab": {
          "base_uri": "https://localhost:8080/"
        },
        "id": "OXtZe58VjTfJ",
        "outputId": "da48199e-b0ad-4606-814a-a1c52d37bb10"
      },
      "source": [
        "[i for i in os.listdir('./indian_currency_new')]"
      ],
      "execution_count": null,
      "outputs": [
        {
          "output_type": "execute_result",
          "data": {
            "text/plain": [
              "['train', 'test']"
            ]
          },
          "metadata": {
            "tags": []
          },
          "execution_count": 6
        }
      ]
    },
    {
      "cell_type": "code",
      "metadata": {
        "id": "LYAzRIfBxH7D"
      },
      "source": [
        "classes = {}\n",
        "for i in os.listdir('./dataset/'):\n",
        "    ct = 0\n",
        "    for j in os.listdir(f'./dataset/{i}'):\n",
        "        ct += 1\n",
        "    classes[i] = ct"
      ],
      "execution_count": null,
      "outputs": []
    },
    {
      "cell_type": "code",
      "metadata": {
        "id": "M0GvEY5Q4Yr9"
      },
      "source": [
        "datagen = ImageDataGenerator(validation_split=0.25, rescale = 1./255)\n",
        "\n",
        "train_generator = datagen.flow_from_directory(\n",
        "    './dataset/', \n",
        "    target_size = (128, 128),\n",
        "    batch_size = 32,\n",
        "    class_mode = 'categorical',\n",
        "    subset = 'training',\n",
        "    classes = list(classes.keys())\n",
        ")\n",
        "\n",
        "val_generator = datagen.flow_from_directory(\n",
        "    './dataset/',\n",
        "    target_size = (128, 128),\n",
        "    batch_size =32,\n",
        "    class_mode = 'categorical',\n",
        "    subset = 'validation'\n",
        "    classes = list(classes.keys())\n",
        ")"
      ],
      "execution_count": null,
      "outputs": []
    },
    {
      "cell_type": "code",
      "metadata": {
        "id": "VuTJtrJtSNQ_"
      },
      "source": [
        "base_model = tf.keras.applications.MobileNetV2(input_shape = (128, 128, 3), include_top = False, weights = 'imagenet')\n",
        "\n",
        "model = tf.keras.Sequential([\n",
        "  base_model,\n",
        "  tf.keras.layers.GlobalMaxPooling2D(),\n",
        "  tf.keras.layers.Flatten(),\n",
        "  tf.keras.layers.BatchNormalization(),\n",
        "  tf.keras.layers.Dropout(0.5),\n",
        "  tf.keras.layers.Dense(512),\n",
        "  tf.keras.layers.Activation('relu'),\n",
        "  tf.keras.layers.BatchNormalization(),\n",
        "  tf.keras.layers.Dropout(0.5),\n",
        "  tf.keras.layers.Dense(6, activation = 'softmax')\n",
        "])"
      ],
      "execution_count": null,
      "outputs": []
    },
    {
      "cell_type": "code",
      "metadata": {
        "id": "F2ohKo4k8kNU"
      },
      "source": [
        "model.compile(loss = 'categorical_crossentropy', optimizer = 'adam', metrics = ['accuracy'])"
      ],
      "execution_count": null,
      "outputs": []
    },
    {
      "cell_type": "code",
      "metadata": {
        "colab": {
          "base_uri": "https://localhost:8080/"
        },
        "id": "Y0MAZiiUSkTg",
        "outputId": "c6eb6bc0-fb65-4827-aa0a-f7c577eedbd4"
      },
      "source": [
        "x = model.fit(train_generator, epochs = 30, validation_data = val_generator)"
      ],
      "execution_count": null,
      "outputs": [
        {
          "output_type": "stream",
          "text": [
            "Epoch 1/30\n",
            "24/24 [==============================] - 17s 568ms/step - loss: 2.1962 - accuracy: 0.4090 - val_loss: 6.9128 - val_accuracy: 0.1667\n",
            "Epoch 2/30\n",
            "24/24 [==============================] - 12s 504ms/step - loss: 0.5240 - accuracy: 0.8322 - val_loss: 15.6401 - val_accuracy: 0.1333\n",
            "Epoch 3/30\n",
            "24/24 [==============================] - 12s 515ms/step - loss: 0.2671 - accuracy: 0.9232 - val_loss: 12.9772 - val_accuracy: 0.1611\n",
            "Epoch 4/30\n",
            "24/24 [==============================] - 12s 514ms/step - loss: 0.2587 - accuracy: 0.9213 - val_loss: 13.5300 - val_accuracy: 0.1611\n",
            "Epoch 5/30\n",
            "24/24 [==============================] - 12s 521ms/step - loss: 0.1290 - accuracy: 0.9561 - val_loss: 12.1288 - val_accuracy: 0.1556\n",
            "Epoch 6/30\n",
            "24/24 [==============================] - 12s 510ms/step - loss: 0.2022 - accuracy: 0.9427 - val_loss: 10.5760 - val_accuracy: 0.1611\n",
            "Epoch 7/30\n",
            "24/24 [==============================] - 12s 509ms/step - loss: 0.1161 - accuracy: 0.9487 - val_loss: 9.8892 - val_accuracy: 0.1556\n",
            "Epoch 8/30\n",
            "24/24 [==============================] - 12s 509ms/step - loss: 0.1172 - accuracy: 0.9612 - val_loss: 13.5917 - val_accuracy: 0.1556\n",
            "Epoch 9/30\n",
            "24/24 [==============================] - 12s 508ms/step - loss: 0.1140 - accuracy: 0.9658 - val_loss: 9.8281 - val_accuracy: 0.2056\n",
            "Epoch 10/30\n",
            "24/24 [==============================] - 12s 510ms/step - loss: 0.2081 - accuracy: 0.9402 - val_loss: 10.4632 - val_accuracy: 0.2222\n",
            "Epoch 11/30\n",
            "24/24 [==============================] - 12s 514ms/step - loss: 0.1089 - accuracy: 0.9700 - val_loss: 9.1841 - val_accuracy: 0.2333\n",
            "Epoch 12/30\n",
            "24/24 [==============================] - 12s 508ms/step - loss: 0.1066 - accuracy: 0.9772 - val_loss: 5.6462 - val_accuracy: 0.4389\n",
            "Epoch 13/30\n",
            "24/24 [==============================] - 12s 501ms/step - loss: 0.0510 - accuracy: 0.9818 - val_loss: 4.0701 - val_accuracy: 0.5389\n",
            "Epoch 14/30\n",
            "24/24 [==============================] - 12s 513ms/step - loss: 0.1351 - accuracy: 0.9542 - val_loss: 2.9618 - val_accuracy: 0.5444\n",
            "Epoch 15/30\n",
            "24/24 [==============================] - 12s 514ms/step - loss: 0.1807 - accuracy: 0.9474 - val_loss: 2.6180 - val_accuracy: 0.6722\n",
            "Epoch 16/30\n",
            "24/24 [==============================] - 12s 478ms/step - loss: 0.0820 - accuracy: 0.9765 - val_loss: 2.3916 - val_accuracy: 0.6556\n",
            "Epoch 17/30\n",
            "24/24 [==============================] - 13s 523ms/step - loss: 0.1425 - accuracy: 0.9546 - val_loss: 6.0272 - val_accuracy: 0.3722\n",
            "Epoch 18/30\n",
            "24/24 [==============================] - 12s 511ms/step - loss: 0.1481 - accuracy: 0.9569 - val_loss: 4.5263 - val_accuracy: 0.5389\n",
            "Epoch 19/30\n",
            "24/24 [==============================] - 12s 510ms/step - loss: 0.1003 - accuracy: 0.9590 - val_loss: 3.4649 - val_accuracy: 0.6444\n",
            "Epoch 20/30\n",
            "24/24 [==============================] - 12s 498ms/step - loss: 0.0807 - accuracy: 0.9781 - val_loss: 3.6354 - val_accuracy: 0.6222\n",
            "Epoch 21/30\n",
            "24/24 [==============================] - 12s 508ms/step - loss: 0.0361 - accuracy: 0.9884 - val_loss: 3.1452 - val_accuracy: 0.5889\n",
            "Epoch 22/30\n",
            "24/24 [==============================] - 12s 500ms/step - loss: 0.0549 - accuracy: 0.9809 - val_loss: 3.4732 - val_accuracy: 0.5278\n",
            "Epoch 23/30\n",
            "24/24 [==============================] - 12s 498ms/step - loss: 0.0890 - accuracy: 0.9683 - val_loss: 2.7071 - val_accuracy: 0.5833\n",
            "Epoch 24/30\n",
            "24/24 [==============================] - 12s 505ms/step - loss: 0.1081 - accuracy: 0.9677 - val_loss: 2.7359 - val_accuracy: 0.6611\n",
            "Epoch 25/30\n",
            "24/24 [==============================] - 12s 508ms/step - loss: 0.0836 - accuracy: 0.9781 - val_loss: 3.3528 - val_accuracy: 0.5389\n",
            "Epoch 26/30\n",
            "24/24 [==============================] - 12s 510ms/step - loss: 0.1345 - accuracy: 0.9609 - val_loss: 2.3107 - val_accuracy: 0.6389\n",
            "Epoch 27/30\n",
            "24/24 [==============================] - 12s 509ms/step - loss: 0.0347 - accuracy: 0.9898 - val_loss: 1.5145 - val_accuracy: 0.7278\n",
            "Epoch 28/30\n",
            "24/24 [==============================] - 12s 505ms/step - loss: 0.0356 - accuracy: 0.9855 - val_loss: 1.3792 - val_accuracy: 0.7444\n",
            "Epoch 29/30\n",
            "24/24 [==============================] - 12s 502ms/step - loss: 0.0289 - accuracy: 0.9941 - val_loss: 1.1382 - val_accuracy: 0.7333\n",
            "Epoch 30/30\n",
            "24/24 [==============================] - 12s 511ms/step - loss: 0.0453 - accuracy: 0.9861 - val_loss: 1.6679 - val_accuracy: 0.6611\n"
          ],
          "name": "stdout"
        }
      ]
    },
    {
      "cell_type": "code",
      "metadata": {
        "colab": {
          "base_uri": "https://localhost:8080/",
          "height": 444
        },
        "id": "ITBwiOKJkgj-",
        "outputId": "a78dbf6d-8018-4fb0-d347-fd63a37ebc21"
      },
      "source": [
        "plt.figure(figsize = (12, 6), dpi = 80)\n",
        "plt.subplot(1, 2, 1)\n",
        "plt.plot(x.history['accuracy'])\n",
        "plt.plot(x.history['val_accuracy'])\n",
        "plt.title('Model accuracy')\n",
        "plt.ylabel('Accuracy')\n",
        "plt.xlabel('Epoch')\n",
        "plt.legend(['Train', 'Test'], loc='upper left')\n",
        "plt.plot()\n",
        "\n",
        "plt.subplot(1, 2, 2)\n",
        "plt.plot(x.history['loss']) \n",
        "plt.plot(x.history['val_loss']) \n",
        "plt.title('Model loss') \n",
        "plt.ylabel('Loss') \n",
        "plt.xlabel('Epoch') \n",
        "plt.legend(['Train', 'Test'], loc='upper left') \n",
        "plt.plot()\n",
        "plt.show()"
      ],
      "execution_count": null,
      "outputs": [
        {
          "output_type": "display_data",
          "data": {
            "image/png": "[encoded data removed]",
            "text/plain": [
              "<Figure size 960x480 with 2 Axes>"
            ]
          },
          "metadata": {
            "tags": [],
            "needs_background": "light"
          }
        }
      ]
    },
    {
      "cell_type": "code",
      "metadata": {
        "id": "wKq1tHzvSoLw"
      },
      "source": [
        "model.save(\"mobilenet_currency.h5\")"
      ],
      "execution_count": null,
      "outputs": []
    },
    {
      "cell_type": "code",
      "metadata": {
        "colab": {
          "base_uri": "https://localhost:8080/"
        },
        "id": "uM50Xjg90RsD",
        "outputId": "c9a17d11-1b6c-45db-f16d-01b840a71a15"
      },
      "source": [
        "# Convert the model.\n",
        "converter = tf.lite.TFLiteConverter.from_keras_model(model)\n",
        "tflite_model = converter.convert()\n",
        "\n",
        "# Save the model.\n",
        "with open('mobilenet_currency.tflite', 'wb') as f:\n",
        "  f.write(tflite_model)"
      ],
      "execution_count": null,
      "outputs": [
        {
          "output_type": "stream",
          "text": [
            "INFO:tensorflow:Assets written to: /tmp/tmp6tb10mic/assets\n"
          ],
          "name": "stdout"
        }
      ]
    },
    {
      "cell_type": "markdown",
      "metadata": {
        "id": "xcVbwY9QOeBL"
      },
      "source": [
        "#Tflite"
      ]
    },
    {
      "cell_type": "code",
      "metadata": {
        "id": "HsobBPMV4hYM"
      },
      "source": [
        "train_data = ImageClassifierDataLoader.from_folder(\"./dataset/\")\n",
        "train_data, test_data = train_data.split(0.75)"
      ],
      "execution_count": null,
      "outputs": []
    },
    {
      "cell_type": "code",
      "metadata": {
        "id": "ceFTkM3lPD9H"
      },
      "source": [
        "validation_data, test_data = test_data.split(0.5)"
      ],
      "execution_count": null,
      "outputs": []
    },
    {
      "cell_type": "code",
      "metadata": {
        "colab": {
          "base_uri": "https://localhost:8080/"
        },
        "id": "KdNDg5EzPLj1",
        "outputId": "ada07ae0-faa9-4a7d-b190-8632d8ae3b54"
      },
      "source": [
        "validation_data"
      ],
      "execution_count": null,
      "outputs": [
        {
          "output_type": "execute_result",
          "data": {
            "text/plain": [
              "<tensorflow_examples.lite.model_maker.core.data_util.image_dataloader.ImageClassifierDataLoader at 0x7fd630b1ad50>"
            ]
          },
          "metadata": {
            "tags": []
          },
          "execution_count": 12
        }
      ]
    },
    {
      "cell_type": "code",
      "metadata": {
        "colab": {
          "base_uri": "https://localhost:8080/"
        },
        "id": "L1z-YonDPO13",
        "outputId": "5724c612-448e-4f52-c409-32cd44f4bb1f"
      },
      "source": [
        "model = image_classifier.create(train_data, model_spec=model_spec.mobilenet_v2_spec, validation_data=validation_data,epochs=10)"
      ],
      "execution_count": null,
      "outputs": [
        {
          "output_type": "stream",
          "text": [
            "INFO:tensorflow:Retraining the models...\n",
            "Model: \"sequential\"\n",
            "_________________________________________________________________\n",
            "Layer (type)                 Output Shape              Param #   \n",
            "=================================================================\n",
            "hub_keras_layer_v1v2 (HubKer (None, 1280)              2257984   \n",
            "_________________________________________________________________\n",
            "dropout (Dropout)            (None, 1280)              0         \n",
            "_________________________________________________________________\n",
            "dense (Dense)                (None, 8)                 10248     \n",
            "=================================================================\n",
            "Total params: 2,268,232\n",
            "Trainable params: 10,248\n",
            "Non-trainable params: 2,257,984\n",
            "_________________________________________________________________\n",
            "None\n",
            "Epoch 1/10\n",
            "23/23 [==============================] - 146s 5s/step - loss: 1.8547 - accuracy: 0.3771 - val_loss: 1.1597 - val_accuracy: 0.7031\n",
            "Epoch 2/10\n",
            "23/23 [==============================] - 16s 740ms/step - loss: 1.1138 - accuracy: 0.7374 - val_loss: 0.8944 - val_accuracy: 0.7812\n",
            "Epoch 3/10\n",
            "23/23 [==============================] - 17s 752ms/step - loss: 0.9201 - accuracy: 0.8332 - val_loss: 0.8058 - val_accuracy: 0.8438\n",
            "Epoch 4/10\n",
            "23/23 [==============================] - 17s 767ms/step - loss: 0.8172 - accuracy: 0.8794 - val_loss: 0.7345 - val_accuracy: 0.9062\n",
            "Epoch 5/10\n",
            "23/23 [==============================] - 16s 708ms/step - loss: 0.7494 - accuracy: 0.9267 - val_loss: 0.7087 - val_accuracy: 0.9062\n",
            "Epoch 6/10\n",
            "23/23 [==============================] - 17s 770ms/step - loss: 0.7137 - accuracy: 0.9272 - val_loss: 0.6596 - val_accuracy: 0.9531\n",
            "Epoch 7/10\n",
            "23/23 [==============================] - 17s 750ms/step - loss: 0.6867 - accuracy: 0.9367 - val_loss: 0.6435 - val_accuracy: 0.9688\n",
            "Epoch 8/10\n",
            "23/23 [==============================] - 17s 757ms/step - loss: 0.6576 - accuracy: 0.9680 - val_loss: 0.6362 - val_accuracy: 0.9688\n",
            "Epoch 9/10\n",
            "23/23 [==============================] - 16s 735ms/step - loss: 0.6511 - accuracy: 0.9634 - val_loss: 0.6240 - val_accuracy: 1.0000\n",
            "Epoch 10/10\n",
            "23/23 [==============================] - 16s 734ms/step - loss: 0.6500 - accuracy: 0.9692 - val_loss: 0.6331 - val_accuracy: 1.0000\n"
          ],
          "name": "stdout"
        }
      ]
    },
    {
      "cell_type": "code",
      "metadata": {
        "colab": {
          "base_uri": "https://localhost:8080/"
        },
        "id": "AYgoM7XkQPLN",
        "outputId": "bce38e05-0ec9-4373-d37b-1dc692293b90"
      },
      "source": [
        "loss, accuracy = model.evaluate(test_data)"
      ],
      "execution_count": null,
      "outputs": [
        {
          "output_type": "stream",
          "text": [
            "3/3 [==============================] - 14s 4s/step - loss: 0.6376 - accuracy: 0.9667\n"
          ],
          "name": "stdout"
        }
      ]
    },
    {
      "cell_type": "code",
      "metadata": {
        "colab": {
          "base_uri": "https://localhost:8080/"
        },
        "id": "0kwc4PslQRXJ",
        "outputId": "9ecc753c-3d3c-4d2b-8fac-d38ece11ea30"
      },
      "source": [
        "model.export(export_dir='/content/drive/MyDrive/MIP/models/curr', export_format=ExportFormat.LABEL)"
      ],
      "execution_count": null,
      "outputs": [
        {
          "output_type": "stream",
          "text": [
            "INFO:tensorflow:Saving labels in /content/drive/MyDrive/MIP/models/curr/labels.txt.\n"
          ],
          "name": "stdout"
        },
        {
          "output_type": "stream",
          "text": [
            "INFO:tensorflow:Saving labels in /content/drive/MyDrive/MIP/models/curr/labels.txt.\n"
          ],
          "name": "stderr"
        }
      ]
    },
    {
      "cell_type": "code",
      "metadata": {
        "colab": {
          "base_uri": "https://localhost:8080/"
        },
        "id": "F9nfvAzsQT-t",
        "outputId": "c5e5763a-e2df-4e56-f574-09d9885eb99b"
      },
      "source": [
        "model.export(export_dir='/content/drive/MyDrive/MIP/models/curr')"
      ],
      "execution_count": null,
      "outputs": [
        {
          "output_type": "stream",
          "text": [
            "INFO:tensorflow:Assets written to: /tmp/tmpgg4xqshz/assets\n"
          ],
          "name": "stdout"
        },
        {
          "output_type": "stream",
          "text": [
            "INFO:tensorflow:Assets written to: /tmp/tmpgg4xqshz/assets\n"
          ],
          "name": "stderr"
        },
        {
          "output_type": "stream",
          "text": [
            "INFO:tensorflow:Label file is inside the TFLite model with metadata.\n"
          ],
          "name": "stdout"
        },
        {
          "output_type": "stream",
          "text": [
            "INFO:tensorflow:Label file is inside the TFLite model with metadata.\n"
          ],
          "name": "stderr"
        },
        {
          "output_type": "stream",
          "text": [
            "INFO:tensorflow:Saving labels in /tmp/tmp1m7xrtny/labels.txt.\n"
          ],
          "name": "stdout"
        },
        {
          "output_type": "stream",
          "text": [
            "INFO:tensorflow:Saving labels in /tmp/tmp1m7xrtny/labels.txt.\n"
          ],
          "name": "stderr"
        }
      ]
    }
  ]
}